{
 "cells": [
  {
   "cell_type": "markdown",
   "metadata": {},
   "source": [
    "Use `pip` to install `twitter`."
   ]
  },
  {
   "cell_type": "code",
   "execution_count": 1,
   "metadata": {},
   "outputs": [
    {
     "name": "stdout",
     "output_type": "stream",
     "text": [
      "Requirement already satisfied: twitter in /opt/conda/lib/python3.6/site-packages\n",
      "\u001b[33mYou are using pip version 9.0.3, however version 10.0.1 is available.\n",
      "You should consider upgrading via the 'pip install --upgrade pip' command.\u001b[0m\n"
     ]
    }
   ],
   "source": [
    "!pip install twitter"
   ]
  },
  {
   "cell_type": "markdown",
   "metadata": {},
   "source": [
    "Import `TwitterStream` and `OAuth` from `twitter`."
   ]
  },
  {
   "cell_type": "code",
   "execution_count": 2,
   "metadata": {},
   "outputs": [],
   "source": [
    "from twitter import OAuth, TwitterStream"
   ]
  },
  {
   "cell_type": "markdown",
   "metadata": {},
   "source": [
    "### `oauth`"
   ]
  },
  {
   "cell_type": "markdown",
   "metadata": {},
   "source": [
    "Create a new object called `oauth` using `OAuth`. \n",
    "\n",
    "    OAuth(token, token_secret, consumer_key, consumer_secret)"
   ]
  },
  {
   "cell_type": "code",
   "execution_count": 3,
   "metadata": {},
   "outputs": [],
   "source": [
    "token = \"1020138825463476224-HNT7mx9CWxwVYlOmRzFgxc6inze9Y1\"\n",
    "token_secret = \"hIXF5LTHagodUhH9uyBewJvcE0IRyBt2WSkvxpZWimoXd\"\n",
    "consumer_key = \"tRL9awZQwSPSDdXLfTEQnPqpo\"\n",
    "consumer_secret = \"yBEWwbG2qEE6ktFcF6jPuYpTb9iq8Vl6DrrJbXfDKpKku0TNCF\"\n"
   ]
  },
  {
   "cell_type": "code",
   "execution_count": 4,
   "metadata": {},
   "outputs": [],
   "source": [
    "oauth = OAuth(token, token_secret, consumer_key, consumer_secret)"
   ]
  },
  {
   "cell_type": "markdown",
   "metadata": {},
   "source": [
    "Create a new object called `twitter_stream` using `TwitterStream`.\n",
    "\n",
    "Use the argument `auth=oauth` referencing the `oauth` object you just made."
   ]
  },
  {
   "cell_type": "markdown",
   "metadata": {},
   "source": [
    "### `twitter_stream`"
   ]
  },
  {
   "cell_type": "code",
   "execution_count": 5,
   "metadata": {},
   "outputs": [],
   "source": [
    "twitter_stream = TwitterStream(auth=oauth)"
   ]
  },
  {
   "cell_type": "markdown",
   "metadata": {},
   "source": [
    "### `bounding_box`"
   ]
  },
  {
   "cell_type": "markdown",
   "metadata": {},
   "source": [
    "Create a string called `bounding_box`. The string should contain the geo-coordinates of a bounding box separated by commas. These values are for Santa Monica:\n",
    "\n",
    "    -118.5137323688,34.0001996344,-118.4702449172,34.0331651696\n",
    "    \n",
    "You can make your own here: https://boundingbox.klokantech.com. Be sure to specify CSV RAW to get the values in this format.\n",
    "\n",
    "![](https://www.evernote.com/l/AAH3H9KGE6hD9JpPJPFncw09exRyoYSid5IB/image.png)"
   ]
  },
  {
   "cell_type": "code",
   "execution_count": 6,
   "metadata": {},
   "outputs": [],
   "source": [
    "bounding_box = '-118.5137323688,34.0001996344,-118.4702449172,34.0331651696'\n"
   ]
  },
  {
   "cell_type": "markdown",
   "metadata": {},
   "source": [
    "### `tweet_iterator`\n",
    "\n",
    "Create an object called `tweet_iterator`. \n",
    "\n",
    "1. Use `twitter_stream`.\n",
    "1. Apply `.statuses` to grab statuses.\n",
    "1. Apply a `.filter()` with the argument `locations=bounding_box`."
   ]
  },
  {
   "cell_type": "code",
   "execution_count": 7,
   "metadata": {},
   "outputs": [],
   "source": [
    "tweet_iterator = twitter_stream.statuses.filter(locations=bounding_box)"
   ]
  },
  {
   "cell_type": "markdown",
   "metadata": {},
   "source": [
    "Get the next value from the `tweet_iterator` and store it as the variable `this_tweet`."
   ]
  },
  {
   "cell_type": "code",
   "execution_count": 8,
   "metadata": {},
   "outputs": [],
   "source": [
    "this_tweet = next(tweet_iterator)"
   ]
  },
  {
   "cell_type": "markdown",
   "metadata": {},
   "source": [
    "\n",
    "What is the type of `this_tweet`?"
   ]
  },
  {
   "cell_type": "code",
   "execution_count": 9,
   "metadata": {},
   "outputs": [
    {
     "data": {
      "text/plain": [
       "twitter.api.TwitterDictResponse"
      ]
     },
     "execution_count": 9,
     "metadata": {},
     "output_type": "execute_result"
    }
   ],
   "source": [
    "type(this_tweet)"
   ]
  },
  {
   "cell_type": "markdown",
   "metadata": {},
   "source": [
    "Display the keys of `this_tweet`."
   ]
  },
  {
   "cell_type": "code",
   "execution_count": 10,
   "metadata": {},
   "outputs": [
    {
     "data": {
      "text/plain": [
       "{'created_at': 'Tue Jul 24 02:47:45 +0000 2018',\n",
       " 'id': 1021587713726672898,\n",
       " 'id_str': '1021587713726672898',\n",
       " 'text': '@tinchasko Ouch',\n",
       " 'display_text_range': [11, 15],\n",
       " 'source': '<a href=\"http://twitter.com/download/iphone\" rel=\"nofollow\">Twitter for iPhone</a>',\n",
       " 'truncated': False,\n",
       " 'in_reply_to_status_id': 1020744055884566529,\n",
       " 'in_reply_to_status_id_str': '1020744055884566529',\n",
       " 'in_reply_to_user_id': 2513574505,\n",
       " 'in_reply_to_user_id_str': '2513574505',\n",
       " 'in_reply_to_screen_name': 'tinchasko',\n",
       " 'user': {'id': 564404898,\n",
       "  'id_str': '564404898',\n",
       "  'name': 'IFBB PRO Ripped Vixen',\n",
       "  'screen_name': 'RippedVixen',\n",
       "  'location': 'Los Angeles, CA',\n",
       "  'url': 'http://rippedvixen.com',\n",
       "  'description': 'Over-employed IFBB Pro bodybuilder, manager, personal trainer, stretch and massage therapist, muscle model and dog lover. Join my premium Snapchat on this site',\n",
       "  'translator_type': 'none',\n",
       "  'protected': False,\n",
       "  'verified': False,\n",
       "  'followers_count': 10353,\n",
       "  'friends_count': 494,\n",
       "  'listed_count': 230,\n",
       "  'favourites_count': 37644,\n",
       "  'statuses_count': 40200,\n",
       "  'created_at': 'Fri Apr 27 05:40:04 +0000 2012',\n",
       "  'utc_offset': None,\n",
       "  'time_zone': None,\n",
       "  'geo_enabled': True,\n",
       "  'lang': 'en',\n",
       "  'contributors_enabled': False,\n",
       "  'is_translator': False,\n",
       "  'profile_background_color': '1A1B1F',\n",
       "  'profile_background_image_url': 'http://abs.twimg.com/images/themes/theme9/bg.gif',\n",
       "  'profile_background_image_url_https': 'https://abs.twimg.com/images/themes/theme9/bg.gif',\n",
       "  'profile_background_tile': True,\n",
       "  'profile_link_color': 'AD2826',\n",
       "  'profile_sidebar_border_color': '000000',\n",
       "  'profile_sidebar_fill_color': '252429',\n",
       "  'profile_text_color': '666666',\n",
       "  'profile_use_background_image': True,\n",
       "  'profile_image_url': 'http://pbs.twimg.com/profile_images/1013519305118396416/-frUm_N__normal.jpg',\n",
       "  'profile_image_url_https': 'https://pbs.twimg.com/profile_images/1013519305118396416/-frUm_N__normal.jpg',\n",
       "  'profile_banner_url': 'https://pbs.twimg.com/profile_banners/564404898/1511406547',\n",
       "  'default_profile': False,\n",
       "  'default_profile_image': False,\n",
       "  'following': None,\n",
       "  'follow_request_sent': None,\n",
       "  'notifications': None},\n",
       " 'geo': None,\n",
       " 'coordinates': None,\n",
       " 'place': {'id': '3b77caf94bfc81fe',\n",
       "  'url': 'https://api.twitter.com/1.1/geo/id/3b77caf94bfc81fe.json',\n",
       "  'place_type': 'city',\n",
       "  'name': 'Los Angeles',\n",
       "  'full_name': 'Los Angeles, CA',\n",
       "  'country_code': 'US',\n",
       "  'country': 'United States',\n",
       "  'bounding_box': {'type': 'Polygon',\n",
       "   'coordinates': [[[-118.668404, 33.704538],\n",
       "     [-118.668404, 34.337041],\n",
       "     [-118.155409, 34.337041],\n",
       "     [-118.155409, 33.704538]]]},\n",
       "  'attributes': {}},\n",
       " 'contributors': None,\n",
       " 'is_quote_status': False,\n",
       " 'quote_count': 0,\n",
       " 'reply_count': 0,\n",
       " 'retweet_count': 0,\n",
       " 'favorite_count': 0,\n",
       " 'entities': {'hashtags': [],\n",
       "  'urls': [],\n",
       "  'user_mentions': [{'screen_name': 'tinchasko',\n",
       "    'name': 'tinchasko',\n",
       "    'id': 2513574505,\n",
       "    'id_str': '2513574505',\n",
       "    'indices': [0, 10]}],\n",
       "  'symbols': []},\n",
       " 'favorited': False,\n",
       " 'retweeted': False,\n",
       " 'filter_level': 'low',\n",
       " 'lang': 'en',\n",
       " 'timestamp_ms': '1532400465791'}"
      ]
     },
     "execution_count": 10,
     "metadata": {},
     "output_type": "execute_result"
    }
   ],
   "source": [
    "this_tweet"
   ]
  },
  {
   "cell_type": "markdown",
   "metadata": {},
   "source": [
    "Display the `text` and `user` of `this_tweet`."
   ]
  },
  {
   "cell_type": "code",
   "execution_count": 11,
   "metadata": {},
   "outputs": [
    {
     "data": {
      "text/plain": [
       "'@tinchasko Ouch'"
      ]
     },
     "execution_count": 11,
     "metadata": {},
     "output_type": "execute_result"
    }
   ],
   "source": [
    "this_tweet['text']"
   ]
  },
  {
   "cell_type": "code",
   "execution_count": 12,
   "metadata": {},
   "outputs": [
    {
     "data": {
      "text/plain": [
       "{'id': 564404898,\n",
       " 'id_str': '564404898',\n",
       " 'name': 'IFBB PRO Ripped Vixen',\n",
       " 'screen_name': 'RippedVixen',\n",
       " 'location': 'Los Angeles, CA',\n",
       " 'url': 'http://rippedvixen.com',\n",
       " 'description': 'Over-employed IFBB Pro bodybuilder, manager, personal trainer, stretch and massage therapist, muscle model and dog lover. Join my premium Snapchat on this site',\n",
       " 'translator_type': 'none',\n",
       " 'protected': False,\n",
       " 'verified': False,\n",
       " 'followers_count': 10353,\n",
       " 'friends_count': 494,\n",
       " 'listed_count': 230,\n",
       " 'favourites_count': 37644,\n",
       " 'statuses_count': 40200,\n",
       " 'created_at': 'Fri Apr 27 05:40:04 +0000 2012',\n",
       " 'utc_offset': None,\n",
       " 'time_zone': None,\n",
       " 'geo_enabled': True,\n",
       " 'lang': 'en',\n",
       " 'contributors_enabled': False,\n",
       " 'is_translator': False,\n",
       " 'profile_background_color': '1A1B1F',\n",
       " 'profile_background_image_url': 'http://abs.twimg.com/images/themes/theme9/bg.gif',\n",
       " 'profile_background_image_url_https': 'https://abs.twimg.com/images/themes/theme9/bg.gif',\n",
       " 'profile_background_tile': True,\n",
       " 'profile_link_color': 'AD2826',\n",
       " 'profile_sidebar_border_color': '000000',\n",
       " 'profile_sidebar_fill_color': '252429',\n",
       " 'profile_text_color': '666666',\n",
       " 'profile_use_background_image': True,\n",
       " 'profile_image_url': 'http://pbs.twimg.com/profile_images/1013519305118396416/-frUm_N__normal.jpg',\n",
       " 'profile_image_url_https': 'https://pbs.twimg.com/profile_images/1013519305118396416/-frUm_N__normal.jpg',\n",
       " 'profile_banner_url': 'https://pbs.twimg.com/profile_banners/564404898/1511406547',\n",
       " 'default_profile': False,\n",
       " 'default_profile_image': False,\n",
       " 'following': None,\n",
       " 'follow_request_sent': None,\n",
       " 'notifications': None}"
      ]
     },
     "execution_count": 12,
     "metadata": {},
     "output_type": "execute_result"
    }
   ],
   "source": [
    "this_tweet['user']"
   ]
  },
  {
   "cell_type": "markdown",
   "metadata": {},
   "source": [
    "## Collect Tweets\n",
    "\n",
    "Create an empty list called `tweets`.\n",
    "\n",
    "Use a `for`-loop to collect ten tweets and add them to this list."
   ]
  },
  {
   "cell_type": "code",
   "execution_count": 16,
   "metadata": {},
   "outputs": [],
   "source": [
    "tweets = []\n",
    "for i in range(10): \n",
    "    tweets.append(next(tweet_iterator))"
   ]
  },
  {
   "cell_type": "markdown",
   "metadata": {},
   "source": [
    "Display `tweets` in a DataFrame."
   ]
  },
  {
   "cell_type": "code",
   "execution_count": 17,
   "metadata": {},
   "outputs": [
    {
     "data": {
      "text/html": [
       "<div>\n",
       "<style scoped>\n",
       "    .dataframe tbody tr th:only-of-type {\n",
       "        vertical-align: middle;\n",
       "    }\n",
       "\n",
       "    .dataframe tbody tr th {\n",
       "        vertical-align: top;\n",
       "    }\n",
       "\n",
       "    .dataframe thead th {\n",
       "        text-align: right;\n",
       "    }\n",
       "</style>\n",
       "<table border=\"1\" class=\"dataframe\">\n",
       "  <thead>\n",
       "    <tr style=\"text-align: right;\">\n",
       "      <th></th>\n",
       "      <th>contributors</th>\n",
       "      <th>coordinates</th>\n",
       "      <th>created_at</th>\n",
       "      <th>display_text_range</th>\n",
       "      <th>entities</th>\n",
       "      <th>extended_tweet</th>\n",
       "      <th>favorite_count</th>\n",
       "      <th>favorited</th>\n",
       "      <th>filter_level</th>\n",
       "      <th>geo</th>\n",
       "      <th>...</th>\n",
       "      <th>quoted_status_id_str</th>\n",
       "      <th>quoted_status_permalink</th>\n",
       "      <th>reply_count</th>\n",
       "      <th>retweet_count</th>\n",
       "      <th>retweeted</th>\n",
       "      <th>source</th>\n",
       "      <th>text</th>\n",
       "      <th>timestamp_ms</th>\n",
       "      <th>truncated</th>\n",
       "      <th>user</th>\n",
       "    </tr>\n",
       "  </thead>\n",
       "  <tbody>\n",
       "    <tr>\n",
       "      <th>0</th>\n",
       "      <td>None</td>\n",
       "      <td>None</td>\n",
       "      <td>Tue Jul 24 02:48:05 +0000 2018</td>\n",
       "      <td>[0, 15]</td>\n",
       "      <td>{'hashtags': [], 'urls': [{'url': 'https://t.c...</td>\n",
       "      <td>NaN</td>\n",
       "      <td>0</td>\n",
       "      <td>False</td>\n",
       "      <td>low</td>\n",
       "      <td>None</td>\n",
       "      <td>...</td>\n",
       "      <td>1020434918323769345</td>\n",
       "      <td>{'url': 'https://t.co/NY16bV4Iu4', 'expanded':...</td>\n",
       "      <td>0</td>\n",
       "      <td>0</td>\n",
       "      <td>False</td>\n",
       "      <td>&lt;a href=\"http://twitter.com/download/iphone\" r...</td>\n",
       "      <td>OH my gosh yes! https://t.co/NY16bV4Iu4</td>\n",
       "      <td>1532400485252</td>\n",
       "      <td>False</td>\n",
       "      <td>{'id': 85403535, 'id_str': '85403535', 'name':...</td>\n",
       "    </tr>\n",
       "    <tr>\n",
       "      <th>1</th>\n",
       "      <td>None</td>\n",
       "      <td>None</td>\n",
       "      <td>Tue Jul 24 02:48:06 +0000 2018</td>\n",
       "      <td>NaN</td>\n",
       "      <td>{'hashtags': [], 'urls': [], 'user_mentions': ...</td>\n",
       "      <td>NaN</td>\n",
       "      <td>0</td>\n",
       "      <td>False</td>\n",
       "      <td>low</td>\n",
       "      <td>None</td>\n",
       "      <td>...</td>\n",
       "      <td>NaN</td>\n",
       "      <td>NaN</td>\n",
       "      <td>0</td>\n",
       "      <td>0</td>\n",
       "      <td>False</td>\n",
       "      <td>&lt;a href=\"http://twitter.com/download/iphone\" r...</td>\n",
       "      <td>just barfed on the street in chinatown</td>\n",
       "      <td>1532400486746</td>\n",
       "      <td>False</td>\n",
       "      <td>{'id': 914743739041456128, 'id_str': '91474373...</td>\n",
       "    </tr>\n",
       "    <tr>\n",
       "      <th>2</th>\n",
       "      <td>None</td>\n",
       "      <td>None</td>\n",
       "      <td>Tue Jul 24 02:48:08 +0000 2018</td>\n",
       "      <td>NaN</td>\n",
       "      <td>{'hashtags': [], 'urls': [], 'user_mentions': ...</td>\n",
       "      <td>NaN</td>\n",
       "      <td>0</td>\n",
       "      <td>False</td>\n",
       "      <td>low</td>\n",
       "      <td>None</td>\n",
       "      <td>...</td>\n",
       "      <td>NaN</td>\n",
       "      <td>NaN</td>\n",
       "      <td>0</td>\n",
       "      <td>0</td>\n",
       "      <td>False</td>\n",
       "      <td>&lt;a href=\"http://twitter.com/download/iphone\" r...</td>\n",
       "      <td>It might be hard but being disappointed in you...</td>\n",
       "      <td>1532400488467</td>\n",
       "      <td>False</td>\n",
       "      <td>{'id': 2931649634, 'id_str': '2931649634', 'na...</td>\n",
       "    </tr>\n",
       "    <tr>\n",
       "      <th>3</th>\n",
       "      <td>None</td>\n",
       "      <td>None</td>\n",
       "      <td>Tue Jul 24 02:48:12 +0000 2018</td>\n",
       "      <td>[12, 13]</td>\n",
       "      <td>{'hashtags': [], 'urls': [], 'user_mentions': ...</td>\n",
       "      <td>NaN</td>\n",
       "      <td>0</td>\n",
       "      <td>False</td>\n",
       "      <td>low</td>\n",
       "      <td>None</td>\n",
       "      <td>...</td>\n",
       "      <td>NaN</td>\n",
       "      <td>NaN</td>\n",
       "      <td>0</td>\n",
       "      <td>0</td>\n",
       "      <td>False</td>\n",
       "      <td>&lt;a href=\"http://twitter.com/download/iphone\" r...</td>\n",
       "      <td>@hypeallyio 😍</td>\n",
       "      <td>1532400492277</td>\n",
       "      <td>False</td>\n",
       "      <td>{'id': 929453692217999360, 'id_str': '92945369...</td>\n",
       "    </tr>\n",
       "    <tr>\n",
       "      <th>4</th>\n",
       "      <td>None</td>\n",
       "      <td>None</td>\n",
       "      <td>Tue Jul 24 02:48:16 +0000 2018</td>\n",
       "      <td>[30, 97]</td>\n",
       "      <td>{'hashtags': [], 'urls': [], 'user_mentions': ...</td>\n",
       "      <td>NaN</td>\n",
       "      <td>0</td>\n",
       "      <td>False</td>\n",
       "      <td>low</td>\n",
       "      <td>None</td>\n",
       "      <td>...</td>\n",
       "      <td>NaN</td>\n",
       "      <td>NaN</td>\n",
       "      <td>0</td>\n",
       "      <td>0</td>\n",
       "      <td>False</td>\n",
       "      <td>&lt;a href=\"http://twitter.com/download/iphone\" r...</td>\n",
       "      <td>@Rory_Carroll @andrewpcollins I just don’t wan...</td>\n",
       "      <td>1532400496509</td>\n",
       "      <td>False</td>\n",
       "      <td>{'id': 16046160, 'id_str': '16046160', 'name':...</td>\n",
       "    </tr>\n",
       "    <tr>\n",
       "      <th>5</th>\n",
       "      <td>None</td>\n",
       "      <td>None</td>\n",
       "      <td>Tue Jul 24 02:48:17 +0000 2018</td>\n",
       "      <td>NaN</td>\n",
       "      <td>{'hashtags': [], 'urls': [{'url': 'https://t.c...</td>\n",
       "      <td>{'full_text': 'Are we supposed to keep allowin...</td>\n",
       "      <td>0</td>\n",
       "      <td>False</td>\n",
       "      <td>low</td>\n",
       "      <td>None</td>\n",
       "      <td>...</td>\n",
       "      <td>NaN</td>\n",
       "      <td>NaN</td>\n",
       "      <td>0</td>\n",
       "      <td>0</td>\n",
       "      <td>False</td>\n",
       "      <td>&lt;a href=\"http://twitter.com/download/iphone\" r...</td>\n",
       "      <td>Are we supposed to keep allowing them to kill ...</td>\n",
       "      <td>1532400497224</td>\n",
       "      <td>True</td>\n",
       "      <td>{'id': 249963273, 'id_str': '249963273', 'name...</td>\n",
       "    </tr>\n",
       "    <tr>\n",
       "      <th>6</th>\n",
       "      <td>None</td>\n",
       "      <td>None</td>\n",
       "      <td>Tue Jul 24 02:48:17 +0000 2018</td>\n",
       "      <td>[0, 32]</td>\n",
       "      <td>{'hashtags': [], 'urls': [{'url': 'https://t.c...</td>\n",
       "      <td>NaN</td>\n",
       "      <td>0</td>\n",
       "      <td>False</td>\n",
       "      <td>low</td>\n",
       "      <td>None</td>\n",
       "      <td>...</td>\n",
       "      <td>1021584241040220160</td>\n",
       "      <td>{'url': 'https://t.co/dAHeVKfng0', 'expanded':...</td>\n",
       "      <td>0</td>\n",
       "      <td>0</td>\n",
       "      <td>False</td>\n",
       "      <td>&lt;a href=\"http://twitter.com/download/iphone\" r...</td>\n",
       "      <td>&amp;amp; stuttering in court rooms😂 https://t.co/...</td>\n",
       "      <td>1532400497302</td>\n",
       "      <td>False</td>\n",
       "      <td>{'id': 909181066992222208, 'id_str': '90918106...</td>\n",
       "    </tr>\n",
       "    <tr>\n",
       "      <th>7</th>\n",
       "      <td>None</td>\n",
       "      <td>None</td>\n",
       "      <td>Tue Jul 24 02:48:17 +0000 2018</td>\n",
       "      <td>NaN</td>\n",
       "      <td>{'hashtags': [], 'urls': [], 'user_mentions': ...</td>\n",
       "      <td>NaN</td>\n",
       "      <td>0</td>\n",
       "      <td>False</td>\n",
       "      <td>low</td>\n",
       "      <td>None</td>\n",
       "      <td>...</td>\n",
       "      <td>NaN</td>\n",
       "      <td>NaN</td>\n",
       "      <td>0</td>\n",
       "      <td>0</td>\n",
       "      <td>False</td>\n",
       "      <td>&lt;a href=\"http://twitter.com/download/iphone\" r...</td>\n",
       "      <td>Sad Bc andry left. Now I gotta drive home alone</td>\n",
       "      <td>1532400497573</td>\n",
       "      <td>False</td>\n",
       "      <td>{'id': 637413633, 'id_str': '637413633', 'name...</td>\n",
       "    </tr>\n",
       "    <tr>\n",
       "      <th>8</th>\n",
       "      <td>None</td>\n",
       "      <td>None</td>\n",
       "      <td>Tue Jul 24 02:48:18 +0000 2018</td>\n",
       "      <td>NaN</td>\n",
       "      <td>{'hashtags': [], 'urls': [], 'user_mentions': ...</td>\n",
       "      <td>NaN</td>\n",
       "      <td>0</td>\n",
       "      <td>False</td>\n",
       "      <td>low</td>\n",
       "      <td>None</td>\n",
       "      <td>...</td>\n",
       "      <td>NaN</td>\n",
       "      <td>NaN</td>\n",
       "      <td>0</td>\n",
       "      <td>0</td>\n",
       "      <td>False</td>\n",
       "      <td>&lt;a href=\"http://twitter.com/download/iphone\" r...</td>\n",
       "      <td>Gary Sanchez is having a horrible night tonight!</td>\n",
       "      <td>1532400498940</td>\n",
       "      <td>False</td>\n",
       "      <td>{'id': 25392918, 'id_str': '25392918', 'name':...</td>\n",
       "    </tr>\n",
       "    <tr>\n",
       "      <th>9</th>\n",
       "      <td>None</td>\n",
       "      <td>{'type': 'Point', 'coordinates': [-122.47846, ...</td>\n",
       "      <td>Tue Jul 24 02:48:21 +0000 2018</td>\n",
       "      <td>NaN</td>\n",
       "      <td>{'hashtags': [], 'urls': [{'url': 'https://t.c...</td>\n",
       "      <td>NaN</td>\n",
       "      <td>0</td>\n",
       "      <td>False</td>\n",
       "      <td>low</td>\n",
       "      <td>{'type': 'Point', 'coordinates': [37.8183, -12...</td>\n",
       "      <td>...</td>\n",
       "      <td>NaN</td>\n",
       "      <td>NaN</td>\n",
       "      <td>0</td>\n",
       "      <td>0</td>\n",
       "      <td>False</td>\n",
       "      <td>&lt;a href=\"http://instagram.com\" rel=\"nofollow\"&gt;...</td>\n",
       "      <td>Aquí en el puente famoso ese en Golden Gate Br...</td>\n",
       "      <td>1532400501002</td>\n",
       "      <td>False</td>\n",
       "      <td>{'id': 118216734, 'id_str': '118216734', 'name...</td>\n",
       "    </tr>\n",
       "  </tbody>\n",
       "</table>\n",
       "<p>10 rows × 34 columns</p>\n",
       "</div>"
      ],
      "text/plain": [
       "  contributors                                        coordinates  \\\n",
       "0         None                                               None   \n",
       "1         None                                               None   \n",
       "2         None                                               None   \n",
       "3         None                                               None   \n",
       "4         None                                               None   \n",
       "5         None                                               None   \n",
       "6         None                                               None   \n",
       "7         None                                               None   \n",
       "8         None                                               None   \n",
       "9         None  {'type': 'Point', 'coordinates': [-122.47846, ...   \n",
       "\n",
       "                       created_at display_text_range  \\\n",
       "0  Tue Jul 24 02:48:05 +0000 2018            [0, 15]   \n",
       "1  Tue Jul 24 02:48:06 +0000 2018                NaN   \n",
       "2  Tue Jul 24 02:48:08 +0000 2018                NaN   \n",
       "3  Tue Jul 24 02:48:12 +0000 2018           [12, 13]   \n",
       "4  Tue Jul 24 02:48:16 +0000 2018           [30, 97]   \n",
       "5  Tue Jul 24 02:48:17 +0000 2018                NaN   \n",
       "6  Tue Jul 24 02:48:17 +0000 2018            [0, 32]   \n",
       "7  Tue Jul 24 02:48:17 +0000 2018                NaN   \n",
       "8  Tue Jul 24 02:48:18 +0000 2018                NaN   \n",
       "9  Tue Jul 24 02:48:21 +0000 2018                NaN   \n",
       "\n",
       "                                            entities  \\\n",
       "0  {'hashtags': [], 'urls': [{'url': 'https://t.c...   \n",
       "1  {'hashtags': [], 'urls': [], 'user_mentions': ...   \n",
       "2  {'hashtags': [], 'urls': [], 'user_mentions': ...   \n",
       "3  {'hashtags': [], 'urls': [], 'user_mentions': ...   \n",
       "4  {'hashtags': [], 'urls': [], 'user_mentions': ...   \n",
       "5  {'hashtags': [], 'urls': [{'url': 'https://t.c...   \n",
       "6  {'hashtags': [], 'urls': [{'url': 'https://t.c...   \n",
       "7  {'hashtags': [], 'urls': [], 'user_mentions': ...   \n",
       "8  {'hashtags': [], 'urls': [], 'user_mentions': ...   \n",
       "9  {'hashtags': [], 'urls': [{'url': 'https://t.c...   \n",
       "\n",
       "                                      extended_tweet  favorite_count  \\\n",
       "0                                                NaN               0   \n",
       "1                                                NaN               0   \n",
       "2                                                NaN               0   \n",
       "3                                                NaN               0   \n",
       "4                                                NaN               0   \n",
       "5  {'full_text': 'Are we supposed to keep allowin...               0   \n",
       "6                                                NaN               0   \n",
       "7                                                NaN               0   \n",
       "8                                                NaN               0   \n",
       "9                                                NaN               0   \n",
       "\n",
       "   favorited filter_level                                                geo  \\\n",
       "0      False          low                                               None   \n",
       "1      False          low                                               None   \n",
       "2      False          low                                               None   \n",
       "3      False          low                                               None   \n",
       "4      False          low                                               None   \n",
       "5      False          low                                               None   \n",
       "6      False          low                                               None   \n",
       "7      False          low                                               None   \n",
       "8      False          low                                               None   \n",
       "9      False          low  {'type': 'Point', 'coordinates': [37.8183, -12...   \n",
       "\n",
       "                         ...                          quoted_status_id_str  \\\n",
       "0                        ...                           1020434918323769345   \n",
       "1                        ...                                           NaN   \n",
       "2                        ...                                           NaN   \n",
       "3                        ...                                           NaN   \n",
       "4                        ...                                           NaN   \n",
       "5                        ...                                           NaN   \n",
       "6                        ...                           1021584241040220160   \n",
       "7                        ...                                           NaN   \n",
       "8                        ...                                           NaN   \n",
       "9                        ...                                           NaN   \n",
       "\n",
       "                             quoted_status_permalink reply_count  \\\n",
       "0  {'url': 'https://t.co/NY16bV4Iu4', 'expanded':...           0   \n",
       "1                                                NaN           0   \n",
       "2                                                NaN           0   \n",
       "3                                                NaN           0   \n",
       "4                                                NaN           0   \n",
       "5                                                NaN           0   \n",
       "6  {'url': 'https://t.co/dAHeVKfng0', 'expanded':...           0   \n",
       "7                                                NaN           0   \n",
       "8                                                NaN           0   \n",
       "9                                                NaN           0   \n",
       "\n",
       "   retweet_count retweeted                                             source  \\\n",
       "0              0     False  <a href=\"http://twitter.com/download/iphone\" r...   \n",
       "1              0     False  <a href=\"http://twitter.com/download/iphone\" r...   \n",
       "2              0     False  <a href=\"http://twitter.com/download/iphone\" r...   \n",
       "3              0     False  <a href=\"http://twitter.com/download/iphone\" r...   \n",
       "4              0     False  <a href=\"http://twitter.com/download/iphone\" r...   \n",
       "5              0     False  <a href=\"http://twitter.com/download/iphone\" r...   \n",
       "6              0     False  <a href=\"http://twitter.com/download/iphone\" r...   \n",
       "7              0     False  <a href=\"http://twitter.com/download/iphone\" r...   \n",
       "8              0     False  <a href=\"http://twitter.com/download/iphone\" r...   \n",
       "9              0     False  <a href=\"http://instagram.com\" rel=\"nofollow\">...   \n",
       "\n",
       "                                                text   timestamp_ms truncated  \\\n",
       "0            OH my gosh yes! https://t.co/NY16bV4Iu4  1532400485252     False   \n",
       "1             just barfed on the street in chinatown  1532400486746     False   \n",
       "2  It might be hard but being disappointed in you...  1532400488467     False   \n",
       "3                                      @hypeallyio 😍  1532400492277     False   \n",
       "4  @Rory_Carroll @andrewpcollins I just don’t wan...  1532400496509     False   \n",
       "5  Are we supposed to keep allowing them to kill ...  1532400497224      True   \n",
       "6  &amp; stuttering in court rooms😂 https://t.co/...  1532400497302     False   \n",
       "7    Sad Bc andry left. Now I gotta drive home alone  1532400497573     False   \n",
       "8   Gary Sanchez is having a horrible night tonight!  1532400498940     False   \n",
       "9  Aquí en el puente famoso ese en Golden Gate Br...  1532400501002     False   \n",
       "\n",
       "                                                user  \n",
       "0  {'id': 85403535, 'id_str': '85403535', 'name':...  \n",
       "1  {'id': 914743739041456128, 'id_str': '91474373...  \n",
       "2  {'id': 2931649634, 'id_str': '2931649634', 'na...  \n",
       "3  {'id': 929453692217999360, 'id_str': '92945369...  \n",
       "4  {'id': 16046160, 'id_str': '16046160', 'name':...  \n",
       "5  {'id': 249963273, 'id_str': '249963273', 'name...  \n",
       "6  {'id': 909181066992222208, 'id_str': '90918106...  \n",
       "7  {'id': 637413633, 'id_str': '637413633', 'name...  \n",
       "8  {'id': 25392918, 'id_str': '25392918', 'name':...  \n",
       "9  {'id': 118216734, 'id_str': '118216734', 'name...  \n",
       "\n",
       "[10 rows x 34 columns]"
      ]
     },
     "execution_count": 17,
     "metadata": {},
     "output_type": "execute_result"
    }
   ],
   "source": [
    "import pandas as pd\n",
    "pd.DataFrame(tweets)"
   ]
  },
  {
   "cell_type": "markdown",
   "metadata": {},
   "source": [
    "Display just the test of the tweets using DataFrame."
   ]
  },
  {
   "cell_type": "code",
   "execution_count": 15,
   "metadata": {},
   "outputs": [
    {
     "ename": "TypeError",
     "evalue": "list indices must be integers or slices, not str",
     "output_type": "error",
     "traceback": [
      "\u001b[0;31m---------------------------------------------------------------------------\u001b[0m",
      "\u001b[0;31mTypeError\u001b[0m                                 Traceback (most recent call last)",
      "\u001b[0;32m<ipython-input-15-f80ef3052338>\u001b[0m in \u001b[0;36m<module>\u001b[0;34m()\u001b[0m\n\u001b[0;32m----> 1\u001b[0;31m \u001b[0mtweets\u001b[0m\u001b[0;34m[\u001b[0m\u001b[0;34m'text'\u001b[0m\u001b[0;34m]\u001b[0m\u001b[0;34m\u001b[0m\u001b[0m\n\u001b[0m",
      "\u001b[0;31mTypeError\u001b[0m: list indices must be integers or slices, not str"
     ]
    }
   ],
   "source": [
    "tweets['text']"
   ]
  },
  {
   "cell_type": "markdown",
   "metadata": {},
   "source": [
    "What is the type of `tweets`?"
   ]
  },
  {
   "cell_type": "code",
   "execution_count": null,
   "metadata": {},
   "outputs": [],
   "source": [
    "type(tweets)"
   ]
  },
  {
   "cell_type": "markdown",
   "metadata": {},
   "source": [
    "Write a list comprehension to display the type of each of the objects in `tweets`."
   ]
  },
  {
   "cell_type": "code",
   "execution_count": null,
   "metadata": {},
   "outputs": [],
   "source": [
    "[type(tw) for tw in tweets]"
   ]
  },
  {
   "cell_type": "markdown",
   "metadata": {},
   "source": [
    "Import the `json` library."
   ]
  },
  {
   "cell_type": "code",
   "execution_count": null,
   "metadata": {},
   "outputs": [],
   "source": [
    "import json"
   ]
  },
  {
   "cell_type": "markdown",
   "metadata": {},
   "source": [
    "Create an object called `tweets_string` using `json.dumps()`.\n",
    "\n",
    "Display the first 500 characters of this string. "
   ]
  },
  {
   "cell_type": "code",
   "execution_count": null,
   "metadata": {},
   "outputs": [],
   "source": [
    "json.dumps(tweets)[:500]"
   ]
  },
  {
   "cell_type": "markdown",
   "metadata": {},
   "source": [
    "## Write Tweets to Disk\n",
    "\n",
    "Using this pattern\n",
    "\n",
    "    with open(filename_as_string, 'w') as outfile:\n",
    "        json.dump(python_object, outfile)\n",
    "        \n",
    "write `tweets` to disk as json."
   ]
  },
  {
   "cell_type": "code",
   "execution_count": null,
   "metadata": {},
   "outputs": [],
   "source": [
    "from datetime import datetime\n",
    "\n",
    "def get_timestamp():\n",
    "    timestamp_str = str(datetime.now())\n",
    "    timestamp_str = (timestamp_str.replace(' ', '_')\n",
    "                                  .replace('.', '-')\n",
    "                                  .replace(':', '-'))\n",
    "    return timestamp_str\n",
    "\n",
    "user = 'kpayne'\n",
    "\n",
    "testfile = \"tweets-\" + user + '-' + get_timestamp() + \".json\""
   ]
  },
  {
   "cell_type": "markdown",
   "metadata": {},
   "source": [
    "## Read Tweets from Disk\n",
    "\n",
    "Using this pattern\n",
    "\n",
    "    with open(filename_as_string) as infile:\n",
    "        json_data=infile.read()\n",
    "        python_object_from_disk = json.loads(json_data)\n",
    "        \n",
    "read the tweets from the json. Store them as `tweets_from_disk`."
   ]
  },
  {
   "cell_type": "code",
   "execution_count": 18,
   "metadata": {},
   "outputs": [
    {
     "name": "stdout",
     "output_type": "stream",
     "text": [
      "lib.py\r\n",
      "\u001b[0m\u001b[01;34m__pycache__\u001b[0m/\r\n",
      "Pythonic+Sequences.ipynb\r\n",
      "tweets-kpayne-2018-07-24_02-00-23-868850.json\r\n",
      "twitter+Streamer.ipynb\r\n",
      "Twitter+Streamer+-+Solution.ipynb\r\n",
      "Untitled1.ipynb\r\n",
      "Untitled2.ipynb\r\n",
      "Untitled.ipynb\r\n"
     ]
    }
   ],
   "source": [
    "ls"
   ]
  },
  {
   "cell_type": "code",
   "execution_count": null,
   "metadata": {},
   "outputs": [],
   "source": [
    "with open('tweets-kpayne-2018-07-24_02-00-23-868850.json') as infile:\n",
    "    json_data=infile.read()\n",
    "    tweets_from_disk = json.loads(json_data)"
   ]
  },
  {
   "cell_type": "markdown",
   "metadata": {},
   "source": [
    "Display `tweets_from_disk` as a DataFrame."
   ]
  },
  {
   "cell_type": "code",
   "execution_count": null,
   "metadata": {},
   "outputs": [],
   "source": [
    "pd.DataFrame(tweets_from_disk)"
   ]
  },
  {
   "cell_type": "code",
   "execution_count": null,
   "metadata": {},
   "outputs": [],
   "source": []
  }
 ],
 "metadata": {
  "kernelspec": {
   "display_name": "Python 3",
   "language": "python",
   "name": "python3"
  },
  "language_info": {
   "codemirror_mode": {
    "name": "ipython",
    "version": 3
   },
   "file_extension": ".py",
   "mimetype": "text/x-python",
   "name": "python",
   "nbconvert_exporter": "python",
   "pygments_lexer": "ipython3",
   "version": "3.6.5"
  }
 },
 "nbformat": 4,
 "nbformat_minor": 2
}
